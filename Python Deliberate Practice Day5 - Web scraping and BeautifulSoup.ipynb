{
 "cells": [
  {
   "cell_type": "code",
   "execution_count": 3,
   "metadata": {},
   "outputs": [
    {
     "ename": "IndexError",
     "evalue": "list index out of range",
     "output_type": "error",
     "traceback": [
      "\u001b[0;31m---------------------------------------------------------------------------\u001b[0m",
      "\u001b[0;31mIndexError\u001b[0m                                Traceback (most recent call last)",
      "\u001b[0;32m<ipython-input-3-45e6062c89a8>\u001b[0m in \u001b[0;36m<module>\u001b[0;34m()\u001b[0m\n\u001b[1;32m     25\u001b[0m \u001b[0;34m\u001b[0m\u001b[0m\n\u001b[1;32m     26\u001b[0m         \u001b[0mrating_container\u001b[0m \u001b[0;34m=\u001b[0m \u001b[0mcontainer\u001b[0m\u001b[0;34m.\u001b[0m\u001b[0mfindAll\u001b[0m\u001b[0;34m(\u001b[0m\u001b[0;34m'a'\u001b[0m\u001b[0;34m,\u001b[0m \u001b[0;34m{\u001b[0m\u001b[0;34m'class'\u001b[0m \u001b[0;34m:\u001b[0m \u001b[0;34m'item-rating'\u001b[0m\u001b[0;34m}\u001b[0m\u001b[0;34m)\u001b[0m\u001b[0;34m\u001b[0m\u001b[0m\n\u001b[0;32m---> 27\u001b[0;31m         \u001b[0mitem_rating\u001b[0m \u001b[0;34m=\u001b[0m \u001b[0mrating_container\u001b[0m\u001b[0;34m[\u001b[0m\u001b[0;36m0\u001b[0m\u001b[0;34m]\u001b[0m\u001b[0;34m.\u001b[0m\u001b[0mtext\u001b[0m\u001b[0;34m[\u001b[0m\u001b[0;36m1\u001b[0m\u001b[0;34m:\u001b[0m\u001b[0;34m-\u001b[0m\u001b[0;36m1\u001b[0m\u001b[0;34m]\u001b[0m\u001b[0;34m\u001b[0m\u001b[0m\n\u001b[0m\u001b[1;32m     28\u001b[0m \u001b[0;34m\u001b[0m\u001b[0m\n\u001b[1;32m     29\u001b[0m         \u001b[0mrating_star_container\u001b[0m \u001b[0;34m=\u001b[0m \u001b[0mcontainer\u001b[0m\u001b[0;34m.\u001b[0m\u001b[0mfindAll\u001b[0m\u001b[0;34m(\u001b[0m\u001b[0;34m'a'\u001b[0m\u001b[0;34m,\u001b[0m \u001b[0;34m{\u001b[0m\u001b[0;34m'class'\u001b[0m \u001b[0;34m:\u001b[0m \u001b[0;34m'item-rating'\u001b[0m\u001b[0;34m}\u001b[0m\u001b[0;34m)\u001b[0m\u001b[0;34m\u001b[0m\u001b[0m\n",
      "\u001b[0;31mIndexError\u001b[0m: list index out of range"
     ]
    }
   ],
   "source": [
    "import bs4\n",
    "from urllib.request import urlopen as uReq\n",
    "from bs4 import BeautifulSoup\n",
    "import ssl\n",
    "import pandas as pd\n",
    "\n",
    "for i in range(10): #To loop across multiple pages\n",
    "    my_url = 'https://www.newegg.com/global/uk/Product/ProductList.aspx?Submit=ENE&N=-1&IsNodeId=1&Description=graphics%20card&page={}&bop=And&PageSize=36&order=BESTMATCH'.format(i)\n",
    "    \n",
    "    # Opening up connection and grabbing the page\n",
    "    page = uReq(my_url)\n",
    "    page_html = page.read()\n",
    "    #html parsing \n",
    "    soup = BeautifulSoup(page_html,'html.parser')\n",
    "    #Grabbing each product\n",
    "    containers = soup.findAll('div', {'class' : 'item-container'})\n",
    "    container = containers[0]\n",
    "\n",
    "    product_feature = []\n",
    "    for container in containers:\n",
    "        brand = container.div.div.a.img['title']\n",
    "    \n",
    "        title_container = container.findAll('a', {'class' : 'item-title'})\n",
    "        product_name = title_container[0].text\n",
    "    \n",
    "        rating_container = container.findAll('a', {'class' : 'item-rating'})\n",
    "        item_rating = rating_container[0].text[1:-1]\n",
    "    \n",
    "        rating_star_container = container.findAll('a', {'class' : 'item-rating'})\n",
    "        rating_star = rating_star_container[0]['title'][-1]\n",
    "         \n",
    "        price_container = container.findAll('li', {'class' : 'price-current'})\n",
    "        product_price = price_container[0].text.strip()[1:7]\n",
    "    \n",
    "        product_feature.append((brand, product_name, item_rating, rating_star, product_price))\n",
    "    \n",
    "product_df = pd.DataFrame(product_feature, columns = ['brand', 'product_name', 'item_rating', 'rating_star', 'product_price'])\n",
    "product_df.to_csv('product.csv', index=False, encoding='utf-8') \n"
   ]
  }
 ],
 "metadata": {
  "kernelspec": {
   "display_name": "Python 3",
   "language": "python",
   "name": "python3"
  },
  "language_info": {
   "codemirror_mode": {
    "name": "ipython",
    "version": 3
   },
   "file_extension": ".py",
   "mimetype": "text/x-python",
   "name": "python",
   "nbconvert_exporter": "python",
   "pygments_lexer": "ipython3",
   "version": "3.6.1"
  }
 },
 "nbformat": 4,
 "nbformat_minor": 2
}
