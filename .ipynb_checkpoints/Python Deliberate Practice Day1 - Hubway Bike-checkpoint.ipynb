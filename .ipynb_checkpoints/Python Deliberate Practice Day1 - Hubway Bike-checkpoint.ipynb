{
 "cells": [
  {
   "cell_type": "code",
   "execution_count": 1,
   "metadata": {
    "collapsed": true
   },
   "outputs": [],
   "source": [
    "import pandas as pd\n",
    "import sys\n",
    "import numpy as np\n",
    "import scipy as sp\n",
    "import matplotlib.pyplot as plt\n",
    "from matplotlib import rcParams\n",
    "from math import radians, cos, sin, asin, sqrt\n",
    "import datetime\n",
    "from sklearn.linear_model import LinearRegression\n",
    "import seaborn as sns\n",
    "sns.set(style=\"ticks\")\n"
   ]
  },
  {
   "cell_type": "code",
   "execution_count": 2,
   "metadata": {
    "collapsed": true
   },
   "outputs": [],
   "source": [
    "%matplotlib inline\n",
    "rcParams['figure.figsize'] = 6,4"
   ]
  },
  {
   "cell_type": "code",
   "execution_count": 5,
   "metadata": {},
   "outputs": [
    {
     "data": {
      "text/html": [
       "<div>\n",
       "<style>\n",
       "    .dataframe thead tr:only-child th {\n",
       "        text-align: right;\n",
       "    }\n",
       "\n",
       "    .dataframe thead th {\n",
       "        text-align: left;\n",
       "    }\n",
       "\n",
       "    .dataframe tbody tr th {\n",
       "        vertical-align: top;\n",
       "    }\n",
       "</style>\n",
       "<table border=\"1\" class=\"dataframe\">\n",
       "  <thead>\n",
       "    <tr style=\"text-align: right;\">\n",
       "      <th></th>\n",
       "      <th>seq_id</th>\n",
       "      <th>hubway_id</th>\n",
       "      <th>status</th>\n",
       "      <th>duration</th>\n",
       "      <th>start_date</th>\n",
       "      <th>strt_statn</th>\n",
       "      <th>end_date</th>\n",
       "      <th>end_statn</th>\n",
       "      <th>bike_nr</th>\n",
       "      <th>subsc_type</th>\n",
       "      <th>zip_code</th>\n",
       "      <th>birth_date</th>\n",
       "      <th>gender</th>\n",
       "    </tr>\n",
       "  </thead>\n",
       "  <tbody>\n",
       "    <tr>\n",
       "      <th>0</th>\n",
       "      <td>1</td>\n",
       "      <td>8</td>\n",
       "      <td>Closed</td>\n",
       "      <td>9</td>\n",
       "      <td>7/28/2011 10:12:00</td>\n",
       "      <td>23.0</td>\n",
       "      <td>7/28/2011 10:12:00</td>\n",
       "      <td>23.0</td>\n",
       "      <td>B00468</td>\n",
       "      <td>Registered</td>\n",
       "      <td>'97217</td>\n",
       "      <td>1976.0</td>\n",
       "      <td>Male</td>\n",
       "    </tr>\n",
       "    <tr>\n",
       "      <th>1</th>\n",
       "      <td>2</td>\n",
       "      <td>9</td>\n",
       "      <td>Closed</td>\n",
       "      <td>220</td>\n",
       "      <td>7/28/2011 10:21:00</td>\n",
       "      <td>23.0</td>\n",
       "      <td>7/28/2011 10:25:00</td>\n",
       "      <td>23.0</td>\n",
       "      <td>B00554</td>\n",
       "      <td>Registered</td>\n",
       "      <td>'02215</td>\n",
       "      <td>1966.0</td>\n",
       "      <td>Male</td>\n",
       "    </tr>\n",
       "    <tr>\n",
       "      <th>2</th>\n",
       "      <td>3</td>\n",
       "      <td>10</td>\n",
       "      <td>Closed</td>\n",
       "      <td>56</td>\n",
       "      <td>7/28/2011 10:33:00</td>\n",
       "      <td>23.0</td>\n",
       "      <td>7/28/2011 10:34:00</td>\n",
       "      <td>23.0</td>\n",
       "      <td>B00456</td>\n",
       "      <td>Registered</td>\n",
       "      <td>'02108</td>\n",
       "      <td>1943.0</td>\n",
       "      <td>Male</td>\n",
       "    </tr>\n",
       "    <tr>\n",
       "      <th>3</th>\n",
       "      <td>4</td>\n",
       "      <td>11</td>\n",
       "      <td>Closed</td>\n",
       "      <td>64</td>\n",
       "      <td>7/28/2011 10:35:00</td>\n",
       "      <td>23.0</td>\n",
       "      <td>7/28/2011 10:36:00</td>\n",
       "      <td>23.0</td>\n",
       "      <td>B00554</td>\n",
       "      <td>Registered</td>\n",
       "      <td>'02116</td>\n",
       "      <td>1981.0</td>\n",
       "      <td>Female</td>\n",
       "    </tr>\n",
       "    <tr>\n",
       "      <th>4</th>\n",
       "      <td>5</td>\n",
       "      <td>12</td>\n",
       "      <td>Closed</td>\n",
       "      <td>12</td>\n",
       "      <td>7/28/2011 10:37:00</td>\n",
       "      <td>23.0</td>\n",
       "      <td>7/28/2011 10:37:00</td>\n",
       "      <td>23.0</td>\n",
       "      <td>B00554</td>\n",
       "      <td>Registered</td>\n",
       "      <td>'97214</td>\n",
       "      <td>1983.0</td>\n",
       "      <td>Female</td>\n",
       "    </tr>\n",
       "  </tbody>\n",
       "</table>\n",
       "</div>"
      ],
      "text/plain": [
       "   seq_id  hubway_id  status  duration          start_date  strt_statn  \\\n",
       "0       1          8  Closed         9  7/28/2011 10:12:00        23.0   \n",
       "1       2          9  Closed       220  7/28/2011 10:21:00        23.0   \n",
       "2       3         10  Closed        56  7/28/2011 10:33:00        23.0   \n",
       "3       4         11  Closed        64  7/28/2011 10:35:00        23.0   \n",
       "4       5         12  Closed        12  7/28/2011 10:37:00        23.0   \n",
       "\n",
       "             end_date  end_statn bike_nr  subsc_type zip_code  birth_date  \\\n",
       "0  7/28/2011 10:12:00       23.0  B00468  Registered   '97217      1976.0   \n",
       "1  7/28/2011 10:25:00       23.0  B00554  Registered   '02215      1966.0   \n",
       "2  7/28/2011 10:34:00       23.0  B00456  Registered   '02108      1943.0   \n",
       "3  7/28/2011 10:36:00       23.0  B00554  Registered   '02116      1981.0   \n",
       "4  7/28/2011 10:37:00       23.0  B00554  Registered   '97214      1983.0   \n",
       "\n",
       "   gender  \n",
       "0    Male  \n",
       "1    Male  \n",
       "2    Male  \n",
       "3  Female  \n",
       "4  Female  "
      ]
     },
     "execution_count": 5,
     "metadata": {},
     "output_type": "execute_result"
    }
   ],
   "source": [
    "hubway_data = pd.read_csv('hubway_trips.csv', low_memory=False)\n",
    "hubway_data.head()"
   ]
  },
  {
   "cell_type": "markdown",
   "metadata": {},
   "source": [
    "# A bit of data manipulation"
   ]
  },
  {
   "cell_type": "code",
   "execution_count": 8,
   "metadata": {
    "collapsed": true
   },
   "outputs": [],
   "source": [
    "year_to_age = lambda s: 0 if 'N' in s else 2017 - int(s)"
   ]
  },
  {
   "cell_type": "code",
   "execution_count": 13,
   "metadata": {},
   "outputs": [
    {
     "data": {
      "text/plain": [
       "0    7/28/2011 10:12:00\n",
       "1    7/28/2011 10:21:00\n",
       "2    7/28/2011 10:33:00\n",
       "3    7/28/2011 10:35:00\n",
       "4    7/28/2011 10:37:00\n",
       "5    7/28/2011 10:39:00\n",
       "6    7/28/2011 10:47:00\n",
       "7    7/28/2011 10:48:00\n",
       "8    7/28/2011 11:01:00\n",
       "9    7/28/2011 11:55:00\n",
       "Name: start_date, dtype: object"
      ]
     },
     "execution_count": 13,
     "metadata": {},
     "output_type": "execute_result"
    }
   ],
   "source": [
    "checkout_year = hubway_data['start_date'][0:10]\n",
    "checkout_year"
   ]
  },
  {
   "cell_type": "code",
   "execution_count": 22,
   "metadata": {},
   "outputs": [
    {
     "data": {
      "text/plain": [
       "0    2011\n",
       "1    2011\n",
       "2    2011\n",
       "3    2011\n",
       "4    2011\n",
       "Name: start_date, dtype: int64"
      ]
     },
     "execution_count": 22,
     "metadata": {},
     "output_type": "execute_result"
    }
   ],
   "source": [
    "check_out_year = hubway_data['start_date'].apply(lambda s: int(s[-13:-9]))\n",
    "check_out_year.head()"
   ]
  },
  {
   "cell_type": "markdown",
   "metadata": {},
   "source": [
    "# Who?\n",
    "\n",
    "Who are the people using this service? Their gender, age."
   ]
  },
  {
   "cell_type": "code",
   "execution_count": 6,
   "metadata": {},
   "outputs": [
    {
     "data": {
      "text/plain": [
       "(array(['Female', 'Male', 'NaN'], dtype=object),\n",
       " array([271700, 834714, 472611]))"
      ]
     },
     "execution_count": 6,
     "metadata": {},
     "output_type": "execute_result"
    }
   ],
   "source": [
    "gender_counts = np.unique(hubway_data['gender'].replace(np.nan, 'NaN', regex=True).values, return_counts=True)\n",
    "gender_counts"
   ]
  },
  {
   "cell_type": "code",
   "execution_count": 132,
   "metadata": {},
   "outputs": [
    {
     "data": {
      "image/png": "[encoded data removed]",
      "text/plain": [
       "<matplotlib.figure.Figure at 0x7f5c4ab454a8>"
      ]
     },
     "metadata": {},
     "output_type": "display_data"
    }
   ],
   "source": [
    "fig, ax = plt.subplots(1, 2, figsize=(15, 6))\n",
    "gender_counts = np.unique(hubway_data['gender'].replace(np.nan, 'NaN', regex=True).values, return_counts=True)\n",
    "ax[0].bar(range(3), gender_counts[1], align='center', color=['black', 'green', 'teal'], alpha=0.5)\n",
    "ax[0].set_xticks([0, 1, 2])\n",
    "ax[0].set_xticklabels(['none', 'male', 'female', ' '])\n",
    "ax[0].set_title('Users by Gender')\n",
    "\n",
    "age_col = 2017.0 - hubway_data['birth_date'].dropna().values\n",
    "age_counts = np.unique(age_col, return_counts=True)\n",
    "ax[1].bar(age_counts[0], age_counts[1], align='center', width=0.4, alpha=0.6)\n",
    "ax[1].axvline(x=np.mean(age_col), color='red', label='average age')\n",
    "ax[1].axvline(x=np.percentile(age_col, 25), color='red', linestyle='--', label='lower quartile')\n",
    "ax[1].axvline(x=np.percentile(age_col, 75), color='red', linestyle='--', label='upper quartile')\n",
    "ax[1].set_xlim([1, 90])\n",
    "ax[1].set_xlabel('Age')\n",
    "ax[1].set_ylabel('Number of Checkouts')\n",
    "ax[1].legend()\n",
    "ax[1].set_title('Users by Age')\n",
    "\n",
    "plt.tight_layout()\n",
    "plt.show()"
   ]
  },
  {
   "cell_type": "code",
   "execution_count": 23,
   "metadata": {
    "collapsed": true
   },
   "outputs": [],
   "source": [
    "age_col = (check_out_year - hubway_data['birth_date'])\n",
    "age_col_clean = age_col.dropna()"
   ]
  },
  {
   "cell_type": "code",
   "execution_count": 41,
   "metadata": {},
   "outputs": [
    {
     "data": {
      "image/png": "[encoded data removed]",
      "text/plain": [
       "<matplotlib.figure.Figure at 0x7f5c8763beb8>"
      ]
     },
     "metadata": {},
     "output_type": "display_data"
    }
   ],
   "source": [
    "# Now our histogram plot of age\n",
    "\n",
    "plt.hist(age_col_clean, color = 'teal', alpha = 0.5)\n",
    "plt.title('Histogram of User Ages by Checkout')\n",
    "plt.xlabel('Age in years')\n",
    "plt.ylabel('Number of Checkouts')\n",
    "plt.axvline(x=np.mean(age_col_clean), color='red', label='Average Age')\n",
    "plt.axvline(x=np.percentile(age_col_clean, 25), color='red', linestyle = '--', label='Lower quartile')\n",
    "plt.axvline(x=np.percentile(age_col_clean, 75), color='red', linestyle = '--', label='Upper quartile')\n",
    "plt.legend()\n",
    "plt.show()"
   ]
  },
  {
   "cell_type": "code",
   "execution_count": 57,
   "metadata": {},
   "outputs": [
    {
     "data": {
      "image/png": "[encoded data removed]",
      "text/plain": [
       "<matplotlib.figure.Figure at 0x7f5c67419588>"
      ]
     },
     "metadata": {},
     "output_type": "display_data"
    }
   ],
   "source": [
    "hubway_duration = hubway_data['duration']\n",
    "plt.scatter(hubway_duration, age_col, color='teal', alpha=0.5)\n",
    "plt.title('Scatter plot of user ages by duration')\n",
    "plt.xlabel('Duration in seconds')\n",
    "plt.ylabel('Age in years')\n",
    "plt.xlim([0, 1e5])\n",
    "plt.show()"
   ]
  },
  {
   "cell_type": "code",
   "execution_count": 127,
   "metadata": {},
   "outputs": [
    {
     "name": "stdout",
     "output_type": "stream",
     "text": [
      "(array(['Casual', 'Registered'], dtype=object), array([ 472611, 1106414]))\n"
     ]
    }
   ],
   "source": [
    "#let's look at some subgroups\n",
    "print(np.unique(hubway_data.subsc_type,return_counts=True))"
   ]
  },
  {
   "cell_type": "markdown",
   "metadata": {},
   "source": [
    "# Where?\n",
    "\n",
    "To answer this question, let us take a look at the stations data"
   ]
  },
  {
   "cell_type": "code",
   "execution_count": 61,
   "metadata": {
    "scrolled": false
   },
   "outputs": [
    {
     "data": {
      "text/html": [
       "<div>\n",
       "<style>\n",
       "    .dataframe thead tr:only-child th {\n",
       "        text-align: right;\n",
       "    }\n",
       "\n",
       "    .dataframe thead th {\n",
       "        text-align: left;\n",
       "    }\n",
       "\n",
       "    .dataframe tbody tr th {\n",
       "        vertical-align: top;\n",
       "    }\n",
       "</style>\n",
       "<table border=\"1\" class=\"dataframe\">\n",
       "  <thead>\n",
       "    <tr style=\"text-align: right;\">\n",
       "      <th></th>\n",
       "      <th>Station ID</th>\n",
       "      <th>Station</th>\n",
       "      <th>Latitude</th>\n",
       "      <th>Longitude</th>\n",
       "      <th>Municipality</th>\n",
       "      <th># of Docks</th>\n",
       "    </tr>\n",
       "  </thead>\n",
       "  <tbody>\n",
       "    <tr>\n",
       "      <th>0</th>\n",
       "      <td>C32015</td>\n",
       "      <td>Dudley Town Common - Mt Pleasant Ave at Blue H...</td>\n",
       "      <td>42.325333</td>\n",
       "      <td>-71.075354</td>\n",
       "      <td>Boston</td>\n",
       "      <td>15</td>\n",
       "    </tr>\n",
       "    <tr>\n",
       "      <th>1</th>\n",
       "      <td>D32030</td>\n",
       "      <td>Faneuil St at Market St</td>\n",
       "      <td>42.354802</td>\n",
       "      <td>-71.150250</td>\n",
       "      <td>Boston</td>\n",
       "      <td>15</td>\n",
       "    </tr>\n",
       "    <tr>\n",
       "      <th>2</th>\n",
       "      <td>E32002</td>\n",
       "      <td>JP Center</td>\n",
       "      <td>42.313156</td>\n",
       "      <td>-71.114140</td>\n",
       "      <td>Boston</td>\n",
       "      <td>15</td>\n",
       "    </tr>\n",
       "    <tr>\n",
       "      <th>3</th>\n",
       "      <td>A32000</td>\n",
       "      <td>Fan Pier</td>\n",
       "      <td>42.353287</td>\n",
       "      <td>-71.044389</td>\n",
       "      <td>Boston</td>\n",
       "      <td>15</td>\n",
       "    </tr>\n",
       "    <tr>\n",
       "      <th>4</th>\n",
       "      <td>A32001</td>\n",
       "      <td>Union Square - Brighton Ave at Cambridge St</td>\n",
       "      <td>42.353334</td>\n",
       "      <td>-71.137313</td>\n",
       "      <td>Boston</td>\n",
       "      <td>15</td>\n",
       "    </tr>\n",
       "  </tbody>\n",
       "</table>\n",
       "</div>"
      ],
      "text/plain": [
       "  Station ID                                            Station   Latitude  \\\n",
       "0     C32015  Dudley Town Common - Mt Pleasant Ave at Blue H...  42.325333   \n",
       "1     D32030                            Faneuil St at Market St  42.354802   \n",
       "2     E32002                                          JP Center  42.313156   \n",
       "3     A32000                                           Fan Pier  42.353287   \n",
       "4     A32001        Union Square - Brighton Ave at Cambridge St  42.353334   \n",
       "\n",
       "   Longitude Municipality  # of Docks  \n",
       "0 -71.075354       Boston          15  \n",
       "1 -71.150250       Boston          15  \n",
       "2 -71.114140       Boston          15  \n",
       "3 -71.044389       Boston          15  \n",
       "4 -71.137313       Boston          15  "
      ]
     },
     "execution_count": 61,
     "metadata": {},
     "output_type": "execute_result"
    }
   ],
   "source": [
    "station_data = pd.read_csv('hubway/Hubway_Stations.csv', low_memory=False)\n",
    "station_data.head()"
   ]
  },
  {
   "cell_type": "code",
   "execution_count": 115,
   "metadata": {},
   "outputs": [
    {
     "data": {
      "text/html": [
       "<div>\n",
       "<style>\n",
       "    .dataframe thead tr:only-child th {\n",
       "        text-align: right;\n",
       "    }\n",
       "\n",
       "    .dataframe thead th {\n",
       "        text-align: left;\n",
       "    }\n",
       "\n",
       "    .dataframe tbody tr th {\n",
       "        vertical-align: top;\n",
       "    }\n",
       "</style>\n",
       "<table border=\"1\" class=\"dataframe\">\n",
       "  <thead>\n",
       "    <tr style=\"text-align: right;\">\n",
       "      <th></th>\n",
       "      <th>Station ID</th>\n",
       "      <th>Latitude</th>\n",
       "      <th>Longitude</th>\n",
       "    </tr>\n",
       "  </thead>\n",
       "  <tbody>\n",
       "    <tr>\n",
       "      <th>0</th>\n",
       "      <td>C32015</td>\n",
       "      <td>42.325333</td>\n",
       "      <td>-71.075354</td>\n",
       "    </tr>\n",
       "    <tr>\n",
       "      <th>1</th>\n",
       "      <td>D32030</td>\n",
       "      <td>42.354802</td>\n",
       "      <td>-71.150250</td>\n",
       "    </tr>\n",
       "    <tr>\n",
       "      <th>2</th>\n",
       "      <td>E32002</td>\n",
       "      <td>42.313156</td>\n",
       "      <td>-71.114140</td>\n",
       "    </tr>\n",
       "    <tr>\n",
       "      <th>3</th>\n",
       "      <td>A32000</td>\n",
       "      <td>42.353287</td>\n",
       "      <td>-71.044389</td>\n",
       "    </tr>\n",
       "    <tr>\n",
       "      <th>4</th>\n",
       "      <td>A32001</td>\n",
       "      <td>42.353334</td>\n",
       "      <td>-71.137313</td>\n",
       "    </tr>\n",
       "  </tbody>\n",
       "</table>\n",
       "</div>"
      ],
      "text/plain": [
       "  Station ID   Latitude  Longitude\n",
       "0     C32015  42.325333 -71.075354\n",
       "1     D32030  42.354802 -71.150250\n",
       "2     E32002  42.313156 -71.114140\n",
       "3     A32000  42.353287 -71.044389\n",
       "4     A32001  42.353334 -71.137313"
      ]
     },
     "execution_count": 115,
     "metadata": {},
     "output_type": "execute_result"
    }
   ],
   "source": [
    "station_data_mod = pd.read_csv('hubway/Hubway_Stations.csv', low_memory=False)[['Station ID', 'Latitude', 'Longitude']]\n",
    "station_data_mod.head()"
   ]
  },
  {
   "cell_type": "code",
   "execution_count": 117,
   "metadata": {},
   "outputs": [
    {
     "data": {
      "text/html": [
       "<div>\n",
       "<style>\n",
       "    .dataframe thead tr:only-child th {\n",
       "        text-align: right;\n",
       "    }\n",
       "\n",
       "    .dataframe thead th {\n",
       "        text-align: left;\n",
       "    }\n",
       "\n",
       "    .dataframe tbody tr th {\n",
       "        vertical-align: top;\n",
       "    }\n",
       "</style>\n",
       "<table border=\"1\" class=\"dataframe\">\n",
       "  <thead>\n",
       "    <tr style=\"text-align: right;\">\n",
       "      <th></th>\n",
       "      <th>seq_id</th>\n",
       "      <th>hubway_id</th>\n",
       "      <th>status</th>\n",
       "      <th>duration</th>\n",
       "      <th>start_date</th>\n",
       "      <th>strt_statn</th>\n",
       "      <th>end_date</th>\n",
       "      <th>end_statn</th>\n",
       "      <th>bike_nr</th>\n",
       "      <th>subsc_type</th>\n",
       "      <th>zip_code</th>\n",
       "      <th>birth_date</th>\n",
       "      <th>gender</th>\n",
       "      <th>Station ID</th>\n",
       "      <th>Latitude</th>\n",
       "      <th>Longitude</th>\n",
       "    </tr>\n",
       "  </thead>\n",
       "  <tbody>\n",
       "    <tr>\n",
       "      <th>0</th>\n",
       "      <td>1</td>\n",
       "      <td>8</td>\n",
       "      <td>Closed</td>\n",
       "      <td>9</td>\n",
       "      <td>7/28/2011 10:12:00</td>\n",
       "      <td>23</td>\n",
       "      <td>7/28/2011 10:12:00</td>\n",
       "      <td>23.0</td>\n",
       "      <td>B00468</td>\n",
       "      <td>Registered</td>\n",
       "      <td>'97217</td>\n",
       "      <td>1976.0</td>\n",
       "      <td>Male</td>\n",
       "      <td>A32028</td>\n",
       "      <td>42.383378</td>\n",
       "      <td>-71.01612</td>\n",
       "    </tr>\n",
       "    <tr>\n",
       "      <th>1</th>\n",
       "      <td>2</td>\n",
       "      <td>9</td>\n",
       "      <td>Closed</td>\n",
       "      <td>220</td>\n",
       "      <td>7/28/2011 10:21:00</td>\n",
       "      <td>23</td>\n",
       "      <td>7/28/2011 10:25:00</td>\n",
       "      <td>23.0</td>\n",
       "      <td>B00554</td>\n",
       "      <td>Registered</td>\n",
       "      <td>'02215</td>\n",
       "      <td>1966.0</td>\n",
       "      <td>Male</td>\n",
       "      <td>A32028</td>\n",
       "      <td>42.383378</td>\n",
       "      <td>-71.01612</td>\n",
       "    </tr>\n",
       "    <tr>\n",
       "      <th>2</th>\n",
       "      <td>3</td>\n",
       "      <td>10</td>\n",
       "      <td>Closed</td>\n",
       "      <td>56</td>\n",
       "      <td>7/28/2011 10:33:00</td>\n",
       "      <td>23</td>\n",
       "      <td>7/28/2011 10:34:00</td>\n",
       "      <td>23.0</td>\n",
       "      <td>B00456</td>\n",
       "      <td>Registered</td>\n",
       "      <td>'02108</td>\n",
       "      <td>1943.0</td>\n",
       "      <td>Male</td>\n",
       "      <td>A32028</td>\n",
       "      <td>42.383378</td>\n",
       "      <td>-71.01612</td>\n",
       "    </tr>\n",
       "    <tr>\n",
       "      <th>3</th>\n",
       "      <td>4</td>\n",
       "      <td>11</td>\n",
       "      <td>Closed</td>\n",
       "      <td>64</td>\n",
       "      <td>7/28/2011 10:35:00</td>\n",
       "      <td>23</td>\n",
       "      <td>7/28/2011 10:36:00</td>\n",
       "      <td>23.0</td>\n",
       "      <td>B00554</td>\n",
       "      <td>Registered</td>\n",
       "      <td>'02116</td>\n",
       "      <td>1981.0</td>\n",
       "      <td>Female</td>\n",
       "      <td>A32028</td>\n",
       "      <td>42.383378</td>\n",
       "      <td>-71.01612</td>\n",
       "    </tr>\n",
       "    <tr>\n",
       "      <th>4</th>\n",
       "      <td>5</td>\n",
       "      <td>12</td>\n",
       "      <td>Closed</td>\n",
       "      <td>12</td>\n",
       "      <td>7/28/2011 10:37:00</td>\n",
       "      <td>23</td>\n",
       "      <td>7/28/2011 10:37:00</td>\n",
       "      <td>23.0</td>\n",
       "      <td>B00554</td>\n",
       "      <td>Registered</td>\n",
       "      <td>'97214</td>\n",
       "      <td>1983.0</td>\n",
       "      <td>Female</td>\n",
       "      <td>A32028</td>\n",
       "      <td>42.383378</td>\n",
       "      <td>-71.01612</td>\n",
       "    </tr>\n",
       "  </tbody>\n",
       "</table>\n",
       "</div>"
      ],
      "text/plain": [
       "   seq_id  hubway_id  status  duration          start_date strt_statn  \\\n",
       "0       1          8  Closed         9  7/28/2011 10:12:00         23   \n",
       "1       2          9  Closed       220  7/28/2011 10:21:00         23   \n",
       "2       3         10  Closed        56  7/28/2011 10:33:00         23   \n",
       "3       4         11  Closed        64  7/28/2011 10:35:00         23   \n",
       "4       5         12  Closed        12  7/28/2011 10:37:00         23   \n",
       "\n",
       "             end_date  end_statn bike_nr  subsc_type zip_code  birth_date  \\\n",
       "0  7/28/2011 10:12:00       23.0  B00468  Registered   '97217      1976.0   \n",
       "1  7/28/2011 10:25:00       23.0  B00554  Registered   '02215      1966.0   \n",
       "2  7/28/2011 10:34:00       23.0  B00456  Registered   '02108      1943.0   \n",
       "3  7/28/2011 10:36:00       23.0  B00554  Registered   '02116      1981.0   \n",
       "4  7/28/2011 10:37:00       23.0  B00554  Registered   '97214      1983.0   \n",
       "\n",
       "   gender Station ID   Latitude  Longitude  \n",
       "0    Male     A32028  42.383378  -71.01612  \n",
       "1    Male     A32028  42.383378  -71.01612  \n",
       "2    Male     A32028  42.383378  -71.01612  \n",
       "3  Female     A32028  42.383378  -71.01612  \n",
       "4  Female     A32028  42.383378  -71.01612  "
      ]
     },
     "execution_count": 117,
     "metadata": {},
     "output_type": "execute_result"
    }
   ],
   "source": [
    "hubway_data_with_gps = hubway_data.join(station_data_mod, on='strt_statn')\n",
    "hubway_data_with_gps.head()"
   ]
  },
  {
   "cell_type": "markdown",
   "metadata": {},
   "source": [
    "# When? \n",
    "\n",
    "The start date in the hubway_data will give us a better and clearer insights "
   ]
  },
  {
   "cell_type": "code",
   "execution_count": 66,
   "metadata": {},
   "outputs": [
    {
     "data": {
      "text/plain": [
       "(array([ 0,  1,  2,  3,  4,  5,  6,  7,  8,  9, 10, 11, 12, 13, 14, 15, 16,\n",
       "        17, 18, 19, 20, 21, 22, 23]),\n",
       " array([ 17826,  14344,  10488,   3056,   2201,   7189,  26780,  73784,\n",
       "        128053,  79240,  62413,  74369,  91815,  92826,  91745,  99831,\n",
       "        130762, 176240, 129882,  91460,  62231,  47600,  38063,  26827]))"
      ]
     },
     "execution_count": 66,
     "metadata": {},
     "output_type": "execute_result"
    }
   ],
   "source": [
    "check_out_hours = hubway_data['start_date'].apply(lambda s: int(s[-8:-6]))\n",
    "check_out_counts = np.unique(check_out_hours, return_counts=True)\n",
    "check_out_counts"
   ]
  },
  {
   "cell_type": "code",
   "execution_count": 131,
   "metadata": {},
   "outputs": [
    {
     "data": {
      "image/png": "[encoded data removed]",
      "text/plain": [
       "<matplotlib.figure.Figure at 0x7f5c4eb35518>"
      ]
     },
     "metadata": {},
     "output_type": "display_data"
    }
   ],
   "source": [
    "# Ploting the number of checkouts wrt to the hour of the day\n",
    "\n",
    "plt.bar(check_out_counts[0], check_out_counts[1], align='center', width=0.4, alpha=0.6)\n",
    "plt.xlim([-1, 24])\n",
    "plt.xticks(range(24))\n",
    "plt.xlabel('Hour of Day')\n",
    "plt.ylabel('Number of Checkouts')\n",
    "plt.title('Time of Day vs Checkouts')\n",
    "plt.show()"
   ]
  },
  {
   "cell_type": "markdown",
   "metadata": {},
   "source": [
    "# How?"
   ]
  },
  {
   "cell_type": "code",
   "execution_count": 107,
   "metadata": {
    "collapsed": true
   },
   "outputs": [],
   "source": [
    "def haversine(pt, lat2=42.355589, lon2=-71.060175):\n",
    "    \"\"\"\n",
    "    Calculate the great circle distance between two points \n",
    "    on the earth (specified in decimal degrees)\n",
    "    \"\"\"\n",
    "    lon1 = pt[0]\n",
    "    lat1 = pt[1]\n",
    "    \n",
    "    # convert decimal degrees to radians \n",
    "    lon1, lat1, lon2, lat2 = map(radians, [lon1, lat1, lon2, lat2])\n",
    "\n",
    "    # haversine formula \n",
    "    dlon = lon2 - lon1 \n",
    "    dlat = lat2 - lat1 \n",
    "    a = sin(dlat/2)**2 + cos(lat1) * cos(lat2) * sin(dlon/2)**2\n",
    "    c = 2 * asin(sqrt(a)) \n",
    "    r = 3956 # Radius of earth in miles\n",
    "    return c * r"
   ]
  }
 ],
 "metadata": {
  "kernelspec": {
   "display_name": "Python 3",
   "language": "python",
   "name": "python3"
  },
  "language_info": {
   "codemirror_mode": {
    "name": "ipython",
    "version": 3
   },
   "file_extension": ".py",
   "mimetype": "text/x-python",
   "name": "python",
   "nbconvert_exporter": "python",
   "pygments_lexer": "ipython3",
   "version": "3.7.1"
  }
 },
 "nbformat": 4,
 "nbformat_minor": 2
}
